{
 "cells": [
  {
   "cell_type": "code",
   "execution_count": null,
   "metadata": {},
   "outputs": [],
   "source": [
    "import numpy as np\n",
    "from pyising import IsingModel"
   ]
  },
  {
   "cell_type": "code",
   "execution_count": null,
   "metadata": {},
   "outputs": [],
   "source": [
    "KB = 1\n",
    "T_CRIT = 2 / np.log(1 + np.sqrt(2))\n",
    "BETA_CRITICAL = 1 / (KB * T_CRIT)\n",
    "DELTA_BETA = 0.5\n",
    "\n",
    "N = 10\n",
    "NROWS = 50\n",
    "NCOLS = 50\n",
    "TF = 30\n",
    "FPS = 30\n",
    "\n",
    "beta_range = np.linspace((1 - DELTA_BETA) * BETA_CRITICAL, (1 + DELTA_BETA) * BETA_CRITICAL, N)\n",
    "h_range = [0,]  # np.linspace(-0.01, 0.01, N)"
   ]
  },
  {
   "cell_type": "markdown",
   "metadata": {},
   "source": [
    "## Physics Simulation"
   ]
  },
  {
   "cell_type": "markdown",
   "metadata": {},
   "source": [
    "#### Wolff Algorithm"
   ]
  },
  {
   "cell_type": "code",
   "execution_count": null,
   "metadata": {},
   "outputs": [],
   "source": [
    "ising = IsingModel(\n",
    "    tf=TF,\n",
    "    fps=FPS,\n",
    "    kB=KB,\n",
    "    ncols=NCOLS,\n",
    "    nrows=NROWS\n",
    "    )\n",
    "\n",
    "res = ising.simulate(beta_range=beta_range, h_range=h_range)\n",
    "res.plot(x='ThermodynamicBeta', y=['Energy', 'Magnetization', 'SpecificHeatCapacity', 'MagneticSusceptibility'], title='Ising Model Simulation Results', grid=True, legend=True)"
   ]
  },
  {
   "cell_type": "code",
   "execution_count": null,
   "metadata": {},
   "outputs": [],
   "source": [
    "ising = IsingModel(\n",
    "    tf=TF,\n",
    "    fps=FPS,\n",
    "    kB=KB,\n",
    "    ncols=NCOLS,\n",
    "    nrows=NROWS\n",
    "    )\n",
    "\n",
    "for beta in beta_range:\n",
    "    for h in h_range:\n",
    "        ising.reset()\n",
    "        ising.quench(method='wolff', beta=beta, h=h)\n",
    "        ising.save_results()\n",
    "        ising.save_video()"
   ]
  },
  {
   "cell_type": "code",
   "execution_count": null,
   "metadata": {},
   "outputs": [],
   "source": [
    "ising.save_video()"
   ]
  },
  {
   "cell_type": "markdown",
   "metadata": {},
   "source": [
    "#### Metropolis-Hastings Algorithm"
   ]
  },
  {
   "cell_type": "code",
   "execution_count": null,
   "metadata": {},
   "outputs": [],
   "source": [
    "ising = IsingModel(\n",
    "    tf=TF,\n",
    "    fps=FPS,\n",
    "    kB=KB,\n",
    "    ncols=NCOLS,\n",
    "    nrows=NROWS\n",
    "    )\n",
    "\n",
    "for beta in beta_range:\n",
    "    for h in h_range:\n",
    "        ising.reset()\n",
    "        ising.quench(beta=beta, h=h, method='metropolis-hastings')\n",
    "        ising.save_results()\n",
    "        ising.save_video()"
   ]
  },
  {
   "cell_type": "markdown",
   "metadata": {},
   "source": [
    "## Visual Simulation\n",
    "#### Wolff Algorithm"
   ]
  },
  {
   "cell_type": "code",
   "execution_count": null,
   "metadata": {},
   "outputs": [],
   "source": [
    "ising = IsingModel(\n",
    "    tf=TF,\n",
    "    fps=FPS,\n",
    "    ncols=1920,\n",
    "    nrows=1080\n",
    "    )\n",
    "ising.quench(method='wolff')\n",
    "ising.save_video()"
   ]
  },
  {
   "cell_type": "markdown",
   "metadata": {},
   "source": [
    "#### Metropolis-Hastings Algorithm"
   ]
  },
  {
   "cell_type": "code",
   "execution_count": null,
   "metadata": {},
   "outputs": [],
   "source": [
    "ising = IsingModel(\n",
    "    tf=30,\n",
    "    fps=30,\n",
    "    ncols=1920, \n",
    "    nrows=1080\n",
    "    )\n",
    "ising.quench()\n",
    "ising.save_video()"
   ]
  },
  {
   "cell_type": "code",
   "execution_count": null,
   "metadata": {},
   "outputs": [],
   "source": []
  }
 ],
 "metadata": {
  "kernelspec": {
   "display_name": "Python 3 (ipykernel)",
   "language": "python",
   "name": "python3"
  },
  "language_info": {
   "codemirror_mode": {
    "name": "ipython",
    "version": 3
   },
   "file_extension": ".py",
   "mimetype": "text/x-python",
   "name": "python",
   "nbconvert_exporter": "python",
   "pygments_lexer": "ipython3",
   "version": "3.11.7"
  }
 },
 "nbformat": 4,
 "nbformat_minor": 4
}
